{
 "cells": [
  {
   "cell_type": "code",
   "execution_count": 88,
   "metadata": {},
   "outputs": [],
   "source": [
    "import requests\n",
    "from bs4 import BeautifulSoup\n",
    "import numpy as np\n",
    "import pandas as pd\n",
    "import time\n",
    "from sklearn.feature_extraction.text import CountVectorizer\n",
    "from sklearn.decomposition import LatentDirichletAllocation, TruncatedSVD\n",
    "from sklearn.feature_extraction.text import CountVectorizer, TfidfVectorizer\n",
    "from sklearn.model_selection import GridSearchCV\n",
    "from pprint import pprint\n",
    "import matplotlib.pyplot as plt"
   ]
  },
  {
   "cell_type": "markdown",
   "metadata": {},
   "source": [
    "# Web Scrapping "
   ]
  },
  {
   "cell_type": "markdown",
   "metadata": {},
   "source": [
    "Getting news from \"El País\" in the English version"
   ]
  },
  {
   "cell_type": "code",
   "execution_count": 108,
   "metadata": {},
   "outputs": [
    {
     "data": {
      "text/plain": [
       "72"
      ]
     },
     "execution_count": 108,
     "metadata": {},
     "output_type": "execute_result"
    }
   ],
   "source": [
    "url = \"https://elpais.com/elpais/inenglish.html\"\n",
    "\n",
    "# Request url\n",
    "r1 = requests.get(url)\n",
    "r1.status_code\n",
    "\n",
    "# We'll save in coverpage the cover page content\n",
    "coverpage = r1.content\n",
    "soup1 = BeautifulSoup(coverpage, 'html5lib')\n",
    "\n",
    "# Find news headers in main page\n",
    "coverpage_news = soup1.find_all('h2')\n",
    "len(coverpage_news)"
   ]
  },
  {
   "cell_type": "markdown",
   "metadata": {},
   "source": [
    "Now, let's get news content"
   ]
  },
  {
   "cell_type": "code",
   "execution_count": 109,
   "metadata": {},
   "outputs": [],
   "source": [
    "number_of_articles = 72\n",
    "news_contents = []\n",
    "list_links = []\n",
    "list_titles = []\n",
    "\n",
    "for n in np.arange(0, number_of_articles):\n",
    "        \n",
    "    # We need to ignore \"live\" pages since they are not articles\n",
    "    if \"live\" in coverpage_news[n].find('a')['href']:  \n",
    "        continue\n",
    "    \n",
    "    # Getting the link of the article\n",
    "    link = 'https://english.elpais.com' + coverpage_news[n].find('a')['href']\n",
    "    list_links.append(link)\n",
    "    \n",
    "    # Getting the title\n",
    "    title = coverpage_news[n].find('a').get_text()\n",
    "    list_titles.append(title)\n",
    "    \n",
    "    # Reading the content \n",
    "    article = requests.get(link)\n",
    "    article_content = article.content\n",
    "    soup_article = BeautifulSoup(article_content, 'html5lib')\n",
    "    body = soup_article.find_all(id = 'ctn_article_body')\n",
    "    if len(body) != 0:\n",
    "        x = body[0].find_all('p')\n",
    "    \n",
    "    # Unifying the paragraphs\n",
    "    list_paragraphs = []\n",
    "    for p in np.arange(0, len(x)):\n",
    "        paragraph = x[p].get_text()\n",
    "        list_paragraphs.append(paragraph)\n",
    "        final_article = \" \".join(list_paragraphs)\n",
    "        \n",
    "    news_contents.append(final_article)"
   ]
  },
  {
   "cell_type": "markdown",
   "metadata": {},
   "source": [
    "Finally we create news dataframe using pandas:"
   ]
  },
  {
   "cell_type": "code",
   "execution_count": 110,
   "metadata": {},
   "outputs": [
    {
     "data": {
      "text/html": [
       "<div>\n",
       "<style scoped>\n",
       "    .dataframe tbody tr th:only-of-type {\n",
       "        vertical-align: middle;\n",
       "    }\n",
       "\n",
       "    .dataframe tbody tr th {\n",
       "        vertical-align: top;\n",
       "    }\n",
       "\n",
       "    .dataframe thead th {\n",
       "        text-align: right;\n",
       "    }\n",
       "</style>\n",
       "<table border=\"1\" class=\"dataframe\">\n",
       "  <thead>\n",
       "    <tr style=\"text-align: right;\">\n",
       "      <th></th>\n",
       "      <th>Article Title</th>\n",
       "      <th>Article Link</th>\n",
       "      <th>Article Content</th>\n",
       "    </tr>\n",
       "  </thead>\n",
       "  <tbody>\n",
       "    <tr>\n",
       "      <th>0</th>\n",
       "      <td>Spain sees record fall in unemployment in June...</td>\n",
       "      <td>https://english.elpais.com/economy-and-busines...</td>\n",
       "      <td>The reactivation of the Spanish economy is pro...</td>\n",
       "    </tr>\n",
       "    <tr>\n",
       "      <th>1</th>\n",
       "      <td>Spain reports new rise in coronavirus infectio...</td>\n",
       "      <td>https://english.elpais.com/society/2021-07-02/...</td>\n",
       "      <td>From April 26 onward, the cumulative incidence...</td>\n",
       "    </tr>\n",
       "    <tr>\n",
       "      <th>2</th>\n",
       "      <td>Abandoned Dutch bikes get a second shot at lif...</td>\n",
       "      <td>https://english.elpais.com/society/2021-07-02/...</td>\n",
       "      <td>Cities in the Netherlands are crowded with bik...</td>\n",
       "    </tr>\n",
       "    <tr>\n",
       "      <th>3</th>\n",
       "      <td>Students confined in Mallorca after mass coron...</td>\n",
       "      <td>https://english.elpais.com/society/2021-07-02/...</td>\n",
       "      <td>A total of 118 of the students who were confin...</td>\n",
       "    </tr>\n",
       "    <tr>\n",
       "      <th>4</th>\n",
       "      <td>Doubts on day one of the EU’s Digital Covid Ce...</td>\n",
       "      <td>https://english.elpais.com/society/2021-07-02/...</td>\n",
       "      <td>The Adolfo Suárez-Madrid Barajas Airport was s...</td>\n",
       "    </tr>\n",
       "    <tr>\n",
       "      <th>...</th>\n",
       "      <td>...</td>\n",
       "      <td>...</td>\n",
       "      <td>...</td>\n",
       "    </tr>\n",
       "    <tr>\n",
       "      <th>66</th>\n",
       "      <td>Sign up to the EL PAÍS English Edition newsletter</td>\n",
       "      <td>https://english.elpais.com/spain/2021-06-09/si...</td>\n",
       "      <td>Puzzled by Podemos? Stumped by the Socialists?...</td>\n",
       "    </tr>\n",
       "    <tr>\n",
       "      <th>67</th>\n",
       "      <td>EL PAÍS teams up with Gymglish to offer person...</td>\n",
       "      <td>https://english.elpais.com/media/2020-10-22/el...</td>\n",
       "      <td>EL PAÍS has teamed up with the language-learni...</td>\n",
       "    </tr>\n",
       "    <tr>\n",
       "      <th>68</th>\n",
       "      <td>Basque ‘genetic singularity’ confirmed in larg...</td>\n",
       "      <td>https://english.elpais.com/usa/2021-04-01/basq...</td>\n",
       "      <td>The largest-ever study of almost 2,000 DNA sam...</td>\n",
       "    </tr>\n",
       "    <tr>\n",
       "      <th>69</th>\n",
       "      <td>Covid-19 takes the life of the last male from ...</td>\n",
       "      <td>https://english.elpais.com/usa/2021-02-22/covi...</td>\n",
       "      <td>Aruká Juma, a native Brazilian, was aged betwe...</td>\n",
       "    </tr>\n",
       "    <tr>\n",
       "      <th>70</th>\n",
       "      <td>The challenge of translating Amanda Gorman if ...</td>\n",
       "      <td>https://english.elpais.com/usa/2021-04-21/the-...</td>\n",
       "      <td>The story begins with the impact of a preposse...</td>\n",
       "    </tr>\n",
       "  </tbody>\n",
       "</table>\n",
       "<p>71 rows × 3 columns</p>\n",
       "</div>"
      ],
      "text/plain": [
       "                                        Article Title  \\\n",
       "0   Spain sees record fall in unemployment in June...   \n",
       "1   Spain reports new rise in coronavirus infectio...   \n",
       "2   Abandoned Dutch bikes get a second shot at lif...   \n",
       "3   Students confined in Mallorca after mass coron...   \n",
       "4   Doubts on day one of the EU’s Digital Covid Ce...   \n",
       "..                                                ...   \n",
       "66  Sign up to the EL PAÍS English Edition newsletter   \n",
       "67  EL PAÍS teams up with Gymglish to offer person...   \n",
       "68  Basque ‘genetic singularity’ confirmed in larg...   \n",
       "69  Covid-19 takes the life of the last male from ...   \n",
       "70  The challenge of translating Amanda Gorman if ...   \n",
       "\n",
       "                                         Article Link  \\\n",
       "0   https://english.elpais.com/economy-and-busines...   \n",
       "1   https://english.elpais.com/society/2021-07-02/...   \n",
       "2   https://english.elpais.com/society/2021-07-02/...   \n",
       "3   https://english.elpais.com/society/2021-07-02/...   \n",
       "4   https://english.elpais.com/society/2021-07-02/...   \n",
       "..                                                ...   \n",
       "66  https://english.elpais.com/spain/2021-06-09/si...   \n",
       "67  https://english.elpais.com/media/2020-10-22/el...   \n",
       "68  https://english.elpais.com/usa/2021-04-01/basq...   \n",
       "69  https://english.elpais.com/usa/2021-02-22/covi...   \n",
       "70  https://english.elpais.com/usa/2021-04-21/the-...   \n",
       "\n",
       "                                      Article Content  \n",
       "0   The reactivation of the Spanish economy is pro...  \n",
       "1   From April 26 onward, the cumulative incidence...  \n",
       "2   Cities in the Netherlands are crowded with bik...  \n",
       "3   A total of 118 of the students who were confin...  \n",
       "4   The Adolfo Suárez-Madrid Barajas Airport was s...  \n",
       "..                                                ...  \n",
       "66  Puzzled by Podemos? Stumped by the Socialists?...  \n",
       "67  EL PAÍS has teamed up with the language-learni...  \n",
       "68  The largest-ever study of almost 2,000 DNA sam...  \n",
       "69  Aruká Juma, a native Brazilian, was aged betwe...  \n",
       "70  The story begins with the impact of a preposse...  \n",
       "\n",
       "[71 rows x 3 columns]"
      ]
     },
     "execution_count": 110,
     "metadata": {},
     "output_type": "execute_result"
    }
   ],
   "source": [
    "# df_show_info\n",
    "df_show_info = pd.DataFrame(\n",
    "    {'Article Title': list_titles,\n",
    "     'Article Link': list_links,\n",
    "     'Article Content': news_contents })\n",
    "\n"
   ]
  },
  {
   "cell_type": "markdown",
   "metadata": {},
   "source": [
    "# LDA - Topic Modeling "
   ]
  },
  {
   "cell_type": "markdown",
   "metadata": {},
   "source": [
    "First, we create the vocabulary for the model removing stop words."
   ]
  },
  {
   "cell_type": "code",
   "execution_count": 114,
   "metadata": {},
   "outputs": [],
   "source": [
    "count_vect = CountVectorizer(max_df=0.8, min_df=2, stop_words='english')\n",
    "vocabulary = count_vect.fit_transform(df_show_info['Article Content'].values.astype('U'))"
   ]
  },
  {
   "cell_type": "code",
   "execution_count": 115,
   "metadata": {},
   "outputs": [
    {
     "data": {
      "text/plain": [
       "<71x3712 sparse matrix of type '<class 'numpy.int64'>'\n",
       "\twith 18459 stored elements in Compressed Sparse Row format>"
      ]
     },
     "execution_count": 115,
     "metadata": {},
     "output_type": "execute_result"
    }
   ],
   "source": [
    "vocabulary"
   ]
  },
  {
   "cell_type": "markdown",
   "metadata": {},
   "source": [
    "Then, let's define the model Building the model: "
   ]
  },
  {
   "cell_type": "code",
   "execution_count": 117,
   "metadata": {},
   "outputs": [
    {
     "name": "stdout",
     "output_type": "stream",
     "text": [
      "LatentDirichletAllocation(learning_method='online', n_components=5, n_jobs=-1,\n",
      "                          random_state=100)\n"
     ]
    }
   ],
   "source": [
    "lda_model = LatentDirichletAllocation(n_components=5,              \n",
    "                                      max_iter=10, learning_method='online', random_state=100, batch_size=128,            \n",
    "                                      evaluate_every = -1,       \n",
    "                                      n_jobs = -1)\n",
    "lda_output = lda_model.fit_transform(vocabulary)\n",
    "# Print model attributes\n",
    "print(lda_model)  \n"
   ]
  },
  {
   "cell_type": "code",
   "execution_count": 123,
   "metadata": {},
   "outputs": [],
   "source": [
    "first_topic = lda_model.components_[0]"
   ]
  },
  {
   "cell_type": "code",
   "execution_count": 124,
   "metadata": {},
   "outputs": [],
   "source": [
    "top_topic_words = first_topic.argsort()[-10:]"
   ]
  },
  {
   "cell_type": "markdown",
   "metadata": {},
   "source": [
    "We can take a look on the clustered words by topic: "
   ]
  },
  {
   "cell_type": "code",
   "execution_count": 125,
   "metadata": {},
   "outputs": [
    {
     "name": "stdout",
     "output_type": "stream",
     "text": [
      "Top 10 words for topic #0:\n",
      "['covid', '19', 'infected', 'vaccinated', 'ventilation', 'risk', '100', 'air', 'people', '000']\n",
      "\n",
      "\n",
      "Top 10 words for topic #1:\n",
      "['says', 'european', 'country', '000', 'young', 'years', 'cases', 'new', 'spain', 'people']\n",
      "\n",
      "\n",
      "Top 10 words for topic #2:\n",
      "['test', 'people', 'british', 'coronavirus', 'said', 'travel', 'spanish', 'government', 'uk', 'spain']\n",
      "\n",
      "\n",
      "Top 10 words for topic #3:\n",
      "['national', 'year', 'want', 'says', 'new', 'spain', 'women', 'like', 'people', 'spanish']\n",
      "\n",
      "\n",
      "Top 10 words for topic #4:\n",
      "['households', 'nacional', 'genetic', '30', 'spain', 'vaccines', 'people', 'cuban', 'basque', 'cuba']\n",
      "\n",
      "\n"
     ]
    }
   ],
   "source": [
    "for i,topic in enumerate(LDA.components_):\n",
    "    print(f'Top 10 words for topic #{i}:')\n",
    "    print([count_vect.get_feature_names()[i] for i in topic.argsort()[-10:]])\n",
    "    print('\\n')"
   ]
  },
  {
   "cell_type": "code",
   "execution_count": 126,
   "metadata": {},
   "outputs": [
    {
     "data": {
      "text/plain": [
       "(71, 5)"
      ]
     },
     "execution_count": 126,
     "metadata": {},
     "output_type": "execute_result"
    }
   ],
   "source": [
    "topic_values = LDA.transform(vocabulary)\n",
    "topic_values.shape"
   ]
  },
  {
   "cell_type": "code",
   "execution_count": 128,
   "metadata": {},
   "outputs": [
    {
     "data": {
      "text/html": [
       "<div>\n",
       "<style scoped>\n",
       "    .dataframe tbody tr th:only-of-type {\n",
       "        vertical-align: middle;\n",
       "    }\n",
       "\n",
       "    .dataframe tbody tr th {\n",
       "        vertical-align: top;\n",
       "    }\n",
       "\n",
       "    .dataframe thead th {\n",
       "        text-align: right;\n",
       "    }\n",
       "</style>\n",
       "<table border=\"1\" class=\"dataframe\">\n",
       "  <thead>\n",
       "    <tr style=\"text-align: right;\">\n",
       "      <th></th>\n",
       "      <th>Article Title</th>\n",
       "      <th>Article Link</th>\n",
       "      <th>Article Content</th>\n",
       "      <th>Topic</th>\n",
       "    </tr>\n",
       "  </thead>\n",
       "  <tbody>\n",
       "    <tr>\n",
       "      <th>0</th>\n",
       "      <td>Spain sees record fall in unemployment in June...</td>\n",
       "      <td>https://english.elpais.com/economy-and-busines...</td>\n",
       "      <td>The reactivation of the Spanish economy is pro...</td>\n",
       "      <td>0</td>\n",
       "    </tr>\n",
       "    <tr>\n",
       "      <th>1</th>\n",
       "      <td>Spain reports new rise in coronavirus infectio...</td>\n",
       "      <td>https://english.elpais.com/society/2021-07-02/...</td>\n",
       "      <td>From April 26 onward, the cumulative incidence...</td>\n",
       "      <td>1</td>\n",
       "    </tr>\n",
       "    <tr>\n",
       "      <th>2</th>\n",
       "      <td>Abandoned Dutch bikes get a second shot at lif...</td>\n",
       "      <td>https://english.elpais.com/society/2021-07-02/...</td>\n",
       "      <td>Cities in the Netherlands are crowded with bik...</td>\n",
       "      <td>0</td>\n",
       "    </tr>\n",
       "    <tr>\n",
       "      <th>3</th>\n",
       "      <td>Students confined in Mallorca after mass coron...</td>\n",
       "      <td>https://english.elpais.com/society/2021-07-02/...</td>\n",
       "      <td>A total of 118 of the students who were confin...</td>\n",
       "      <td>2</td>\n",
       "    </tr>\n",
       "    <tr>\n",
       "      <th>4</th>\n",
       "      <td>Doubts on day one of the EU’s Digital Covid Ce...</td>\n",
       "      <td>https://english.elpais.com/society/2021-07-02/...</td>\n",
       "      <td>The Adolfo Suárez-Madrid Barajas Airport was s...</td>\n",
       "      <td>2</td>\n",
       "    </tr>\n",
       "    <tr>\n",
       "      <th>...</th>\n",
       "      <td>...</td>\n",
       "      <td>...</td>\n",
       "      <td>...</td>\n",
       "      <td>...</td>\n",
       "    </tr>\n",
       "    <tr>\n",
       "      <th>66</th>\n",
       "      <td>Sign up to the EL PAÍS English Edition newsletter</td>\n",
       "      <td>https://english.elpais.com/spain/2021-06-09/si...</td>\n",
       "      <td>Puzzled by Podemos? Stumped by the Socialists?...</td>\n",
       "      <td>1</td>\n",
       "    </tr>\n",
       "    <tr>\n",
       "      <th>67</th>\n",
       "      <td>EL PAÍS teams up with Gymglish to offer person...</td>\n",
       "      <td>https://english.elpais.com/media/2020-10-22/el...</td>\n",
       "      <td>EL PAÍS has teamed up with the language-learni...</td>\n",
       "      <td>1</td>\n",
       "    </tr>\n",
       "    <tr>\n",
       "      <th>68</th>\n",
       "      <td>Basque ‘genetic singularity’ confirmed in larg...</td>\n",
       "      <td>https://english.elpais.com/usa/2021-04-01/basq...</td>\n",
       "      <td>The largest-ever study of almost 2,000 DNA sam...</td>\n",
       "      <td>4</td>\n",
       "    </tr>\n",
       "    <tr>\n",
       "      <th>69</th>\n",
       "      <td>Covid-19 takes the life of the last male from ...</td>\n",
       "      <td>https://english.elpais.com/usa/2021-02-22/covi...</td>\n",
       "      <td>Aruká Juma, a native Brazilian, was aged betwe...</td>\n",
       "      <td>0</td>\n",
       "    </tr>\n",
       "    <tr>\n",
       "      <th>70</th>\n",
       "      <td>The challenge of translating Amanda Gorman if ...</td>\n",
       "      <td>https://english.elpais.com/usa/2021-04-21/the-...</td>\n",
       "      <td>The story begins with the impact of a preposse...</td>\n",
       "      <td>3</td>\n",
       "    </tr>\n",
       "  </tbody>\n",
       "</table>\n",
       "<p>71 rows × 4 columns</p>\n",
       "</div>"
      ],
      "text/plain": [
       "                                        Article Title  \\\n",
       "0   Spain sees record fall in unemployment in June...   \n",
       "1   Spain reports new rise in coronavirus infectio...   \n",
       "2   Abandoned Dutch bikes get a second shot at lif...   \n",
       "3   Students confined in Mallorca after mass coron...   \n",
       "4   Doubts on day one of the EU’s Digital Covid Ce...   \n",
       "..                                                ...   \n",
       "66  Sign up to the EL PAÍS English Edition newsletter   \n",
       "67  EL PAÍS teams up with Gymglish to offer person...   \n",
       "68  Basque ‘genetic singularity’ confirmed in larg...   \n",
       "69  Covid-19 takes the life of the last male from ...   \n",
       "70  The challenge of translating Amanda Gorman if ...   \n",
       "\n",
       "                                         Article Link  \\\n",
       "0   https://english.elpais.com/economy-and-busines...   \n",
       "1   https://english.elpais.com/society/2021-07-02/...   \n",
       "2   https://english.elpais.com/society/2021-07-02/...   \n",
       "3   https://english.elpais.com/society/2021-07-02/...   \n",
       "4   https://english.elpais.com/society/2021-07-02/...   \n",
       "..                                                ...   \n",
       "66  https://english.elpais.com/spain/2021-06-09/si...   \n",
       "67  https://english.elpais.com/media/2020-10-22/el...   \n",
       "68  https://english.elpais.com/usa/2021-04-01/basq...   \n",
       "69  https://english.elpais.com/usa/2021-02-22/covi...   \n",
       "70  https://english.elpais.com/usa/2021-04-21/the-...   \n",
       "\n",
       "                                      Article Content  Topic  \n",
       "0   The reactivation of the Spanish economy is pro...      0  \n",
       "1   From April 26 onward, the cumulative incidence...      1  \n",
       "2   Cities in the Netherlands are crowded with bik...      0  \n",
       "3   A total of 118 of the students who were confin...      2  \n",
       "4   The Adolfo Suárez-Madrid Barajas Airport was s...      2  \n",
       "..                                                ...    ...  \n",
       "66  Puzzled by Podemos? Stumped by the Socialists?...      1  \n",
       "67  EL PAÍS has teamed up with the language-learni...      1  \n",
       "68  The largest-ever study of almost 2,000 DNA sam...      4  \n",
       "69  Aruká Juma, a native Brazilian, was aged betwe...      0  \n",
       "70  The story begins with the impact of a preposse...      3  \n",
       "\n",
       "[71 rows x 4 columns]"
      ]
     },
     "execution_count": 128,
     "metadata": {},
     "output_type": "execute_result"
    }
   ],
   "source": [
    "df_show_info['Topic'] = topic_values.argmax(axis=1)\n",
    "df_show_info"
   ]
  },
  {
   "cell_type": "code",
   "execution_count": 130,
   "metadata": {},
   "outputs": [
    {
     "data": {
      "text/plain": [
       "2    19\n",
       "1    19\n",
       "3    13\n",
       "0    12\n",
       "4     8\n",
       "Name: Topic, dtype: int64"
      ]
     },
     "execution_count": 130,
     "metadata": {},
     "output_type": "execute_result"
    },
    {
     "data": {
      "image/png": "[encoded data removed]",
      "text/plain": [
       "<Figure size 432x288 with 1 Axes>"
      ]
     },
     "metadata": {
      "needs_background": "light"
     },
     "output_type": "display_data"
    }
   ],
   "source": [
    "df_show_info['Topic'].plot(kind=\"hist\")"
   ]
  },
  {
   "cell_type": "markdown",
   "metadata": {},
   "source": [
    "# Evaluate the model"
   ]
  },
  {
   "cell_type": "code",
   "execution_count": 134,
   "metadata": {},
   "outputs": [
    {
     "data": {
      "text/plain": [
       "LatentDirichletAllocation(learning_method='online', n_jobs=-1, random_state=100)"
      ]
     },
     "execution_count": 134,
     "metadata": {},
     "output_type": "execute_result"
    }
   ],
   "source": [
    "LatentDirichletAllocation(batch_size=128, doc_topic_prior=None,\n",
    " evaluate_every=-1, learning_decay=0.7,\n",
    " learning_method='online', learning_offset=10.0,\n",
    " max_doc_update_iter=100, max_iter=10, mean_change_tol=0.001,\n",
    " n_components=10, n_jobs=-1, perp_tol=0.1,\n",
    " random_state=100, topic_word_prior=None,\n",
    " total_samples=1000000.0, verbose=0)"
   ]
  },
  {
   "cell_type": "code",
   "execution_count": 138,
   "metadata": {},
   "outputs": [
    {
     "name": "stdout",
     "output_type": "stream",
     "text": [
      "Log Likelihood:  -236285.10274915758\n",
      "Perplexity:  2625.484903962818\n",
      "{'batch_size': 128, 'doc_topic_prior': None, 'evaluate_every': -1, 'learning_decay': 0.7, 'learning_method': 'online', 'learning_offset': 10.0, 'max_doc_update_iter': 100, 'max_iter': 10, 'mean_change_tol': 0.001, 'n_components': 5, 'n_jobs': -1, 'perp_tol': 0.1, 'random_state': 100, 'topic_word_prior': None, 'total_samples': 1000000.0, 'verbose': 0}\n"
     ]
    }
   ],
   "source": [
    "# Log Likelyhood: Higher the better\n",
    "print(\"Log Likelihood: \", lda_model.score(vocabulary))\n",
    "# Perplexity: Lower the better. Perplexity = exp(-1. * log-likelihood per word)\n",
    "print(\"Perplexity: \", lda_model.perplexity(vocabulary))\n",
    "# See model parameters\n",
    "print(lda_model.get_params())"
   ]
  }
 ],
 "metadata": {
  "kernelspec": {
   "display_name": "Python 3",
   "language": "python",
   "name": "python3"
  },
  "language_info": {
   "codemirror_mode": {
    "name": "ipython",
    "version": 3
   },
   "file_extension": ".py",
   "mimetype": "text/x-python",
   "name": "python",
   "nbconvert_exporter": "python",
   "pygments_lexer": "ipython3",
   "version": "3.8.3"
  }
 },
 "nbformat": 4,
 "nbformat_minor": 4
}
